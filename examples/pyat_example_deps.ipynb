{
 "cells": [
  {
   "cell_type": "code",
   "execution_count": 11,
   "metadata": {},
   "outputs": [
    {
     "name": "stdout",
     "output_type": "stream",
     "text": [
      "\n",
      "  ++++++++++++++++++++++++++++++++++++++++++++\n",
      "  +     MAD-X 5.07.00  (64 bit, Linux)       +\n",
      "  + Support: mad@cern.ch, http://cern.ch/mad +\n",
      "  + Release   date: 2021.05.03               +\n",
      "  + Execution date: 2021.11.11 11:15:47      +\n",
      "  ++++++++++++++++++++++++++++++++++++++++++++\n"
     ]
    }
   ],
   "source": [
    "from xsequence.lattice import Lattice\n",
    "from xsequence.conversion_utils import conv_utils\n",
    "\n",
    "lat = Lattice.from_madx_seqfile(\"FCCee_h.seq\", 'l000013', energy=120)\n",
    "plat = lat.to_pyat()"
   ]
  },
  {
   "cell_type": "markdown",
   "metadata": {},
   "source": [
    "Accelerator toolbox import and specific matplotlib environment settings for Jupyter notebook."
   ]
  },
  {
   "cell_type": "code",
   "execution_count": 12,
   "metadata": {},
   "outputs": [],
   "source": [
    "import at\n",
    "%matplotlib qt\n",
    "import matplotlib.pyplot as plt\n",
    "plt.ion()"
   ]
  },
  {
   "cell_type": "markdown",
   "metadata": {},
   "source": [
    "Creating pyAT optics plot"
   ]
  },
  {
   "cell_type": "code",
   "execution_count": 13,
   "metadata": {},
   "outputs": [],
   "source": [
    "plat.radiation_off()\n",
    "l0,q,qp,l = at.linopt(plat,refpts=range(len(plat)))\n",
    "ax1,=plt.plot(l.s_pos,l.beta[:,0], label='x')\n",
    "ax2,=plt.plot(l.s_pos,l.beta[:,1], label='y')\n",
    "plt.xlabel('s [m]')\n",
    "plt.ylabel('beta [m]')\n",
    "plt.legend()\n",
    "plt.draw()"
   ]
  },
  {
   "cell_type": "markdown",
   "metadata": {},
   "source": [
    "Defining update function for optics plot"
   ]
  },
  {
   "cell_type": "code",
   "execution_count": 14,
   "metadata": {},
   "outputs": [],
   "source": [
    "def update_twiss(plat,elements):\n",
    "    plat.radiation_off()\n",
    "    l0,q,qp,l = at.linopt(plat,refpts=range(len(plat)))\n",
    "    ax1.set_ydata(l.beta[:,0])\n",
    "    ax2.set_ydata(l.beta[:,1])"
   ]
  },
  {
   "cell_type": "markdown",
   "metadata": {},
   "source": [
    "Setting up dependency manager"
   ]
  },
  {
   "cell_type": "code",
   "execution_count": 15,
   "metadata": {},
   "outputs": [],
   "source": [
    "import xdeps\n",
    "\n",
    "plat.e=dict( (el.FamName,el) for el in plat)\n",
    "plat.v = xdeps.utils.AttrDict()\n",
    "\n",
    "manager = xdeps.Manager()\n",
    "pref=manager.ref(plat,'plat')\n",
    "\n",
    "pref.update_twiss=update_twiss\n",
    "pref.up=pref.update_twiss(pref,pref.e)"
   ]
  },
  {
   "cell_type": "markdown",
   "metadata": {},
   "source": [
    "Creating knob 'dk' to modulate k1 of 'qc1l1.1' element"
   ]
  },
  {
   "cell_type": "code",
   "execution_count": 16,
   "metadata": {},
   "outputs": [],
   "source": [
    "pref.v.dk=0\n",
    "pref.e['qc1l1.1'].K=-0.24949831119187935*(1+pref.v.dk)"
   ]
  },
  {
   "cell_type": "markdown",
   "metadata": {},
   "source": [
    "Changing values of the knob will automaticall change the plot of beta functions."
   ]
  },
  {
   "cell_type": "code",
   "execution_count": 17,
   "metadata": {},
   "outputs": [],
   "source": [
    "pref.v.dk = 0.0001"
   ]
  },
  {
   "cell_type": "code",
   "execution_count": 18,
   "metadata": {},
   "outputs": [],
   "source": [
    "pref.v.dk = 0.0003"
   ]
  },
  {
   "cell_type": "code",
   "execution_count": 19,
   "metadata": {},
   "outputs": [],
   "source": [
    "pref.v.dk = 0.0005"
   ]
  }
 ],
 "metadata": {
  "kernelspec": {
   "display_name": "Python 3.8.5 64-bit ('base': conda)",
   "language": "python",
   "name": "python385jvsc74a57bd0a91ba3d47e2e60a237bbc7f073e35e245fce9670f90c53ef032d764feb4e9d23"
  },
  "language_info": {
   "codemirror_mode": {
    "name": "ipython",
    "version": 3
   },
   "file_extension": ".py",
   "mimetype": "text/x-python",
   "name": "python",
   "nbconvert_exporter": "python",
   "pygments_lexer": "ipython3",
   "version": "3.8.12"
  }
 },
 "nbformat": 4,
 "nbformat_minor": 4
}
