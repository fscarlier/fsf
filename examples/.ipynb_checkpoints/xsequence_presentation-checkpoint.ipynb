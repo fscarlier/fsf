{
 "cells": [
  {
   "cell_type": "code",
   "execution_count": 1,
   "metadata": {
    "slideshow": {
     "slide_type": "slide"
    }
   },
   "outputs": [],
   "source": [
    "from xsequence.lattice import Lattice\n",
    "from xsequence.conversion_utils import conv_utils"
   ]
  },
  {
   "cell_type": "markdown",
   "metadata": {
    "slideshow": {
     "slide_type": "skip"
    }
   },
   "source": [
    "Lattices can be imported from different sources. Currently only limited to FCC-ee lattice without complicated Solenoid IR descriptions.\n",
    "\n",
    "Different examples:\n",
    " - From cpymad instance\n",
    " - From MAD-X sequence file through cpymad\n",
    " - From SAD using built in SAD2MAD converter (no tilted Solenoid, but Twiss table based conversion can be implemented)\n",
    " - From pyAT\n"
   ]
  },
  {
   "cell_type": "code",
   "execution_count": 2,
   "metadata": {
    "slideshow": {
     "slide_type": "-"
    }
   },
   "outputs": [
    {
     "name": "stdout",
     "output_type": "stream",
     "text": [
      "\n",
      "  ++++++++++++++++++++++++++++++++++++++++++++\n",
      "  +     MAD-X 5.07.00  (64 bit, Linux)       +\n",
      "  + Support: mad@cern.ch, http://cern.ch/mad +\n",
      "  + Release   date: 2021.05.03               +\n",
      "  + Execution date: 2021.11.10 09:08:23      +\n",
      "  ++++++++++++++++++++++++++++++++++++++++++++\n",
      "\n",
      "  ++++++++++++++++++++++++++++++++++++++++++++\n",
      "  +     MAD-X 5.07.00  (64 bit, Linux)       +\n",
      "  + Support: mad@cern.ch, http://cern.ch/mad +\n",
      "  + Release   date: 2021.05.03               +\n",
      "  + Execution date: 2021.11.10 09:08:36      +\n",
      "  ++++++++++++++++++++++++++++++++++++++++++++\n",
      "\n",
      "  ++++++++++++++++++++++++++++++++++++++++++++\n",
      "  +     MAD-X 5.07.00  (64 bit, Linux)       +\n",
      "  + Support: mad@cern.ch, http://cern.ch/mad +\n",
      "  + Release   date: 2021.05.03               +\n",
      "  + Execution date: 2021.11.10 09:08:50      +\n",
      "  ++++++++++++++++++++++++++++++++++++++++++++\n"
     ]
    }
   ],
   "source": [
    "# Import from cpymad instance\n",
    "madx_lattice = conv_utils.create_cpymad_from_file(\"FCCee_h.seq\", energy=120)\n",
    "lat = Lattice.from_cpymad(madx_lattice, 'l000013')\n",
    "\n",
    "# Import from madx sequence file (through cpymad)\n",
    "lat_mad = Lattice.from_madx_seqfile(\"FCCee_h.seq\", 'l000013', energy=120)\n",
    "\n",
    "# Import from sad sequence file\n",
    "lat_sad = Lattice.from_sad(\"FCCee_h.sad\", 'ring', energy=120)\n",
    "\n",
    "# Import from pyat instance\n",
    "pyat_lattice = conv_utils.create_pyat_from_file(\"FCCee_h.mat\")\n",
    "lat = Lattice.from_pyat(pyat_lattice)"
   ]
  },
  {
   "cell_type": "markdown",
   "metadata": {
    "slideshow": {
     "slide_type": "skip"
    }
   },
   "source": [
    "A lattice can also be created from scratch in Python"
   ]
  },
  {
   "cell_type": "code",
   "execution_count": 3,
   "metadata": {
    "slideshow": {
     "slide_type": "slide"
    }
   },
   "outputs": [],
   "source": [
    "import xsequence.elements as xe\n",
    "\n",
    "# Create elements\n",
    "q1 = xe.Quadrupole('q1', length=1, k1=0.2, location=1)\n",
    "q2 = xe.Quadrupole('q2', length=1, k1=-0.2, location=3)\n",
    "q3 = xe.Quadrupole('q3', length=1, k1=0.2, location=5)\n",
    "\n",
    "element_dict = {'q1':q1, 'q2':q2, 'q3':q3}\n",
    "lat = Lattice('lat_name', element_dict, key='sequence')\n",
    "\n",
    "# Create elements\n",
    "d0 = xe.Drift('d0', length=1)\n",
    "q1 = xe.Quadrupole('q1', length=1, k1=0.2)\n",
    "d1 = xe.Drift('d1', length=1)\n",
    "q2 = xe.Quadrupole('q2', length=1, k1=-0.2)\n",
    "d2 = xe.Drift('d1', length=1)\n",
    "q3 = xe.Quadrupole('q3', length=1, k1=0.2)\n",
    "\n",
    "element_dict = {'d0':d0, 'q1':q1, 'd1':d1, \n",
    "                'q2':q2, 'd2':d2, 'q3':q3}\n",
    "lat = Lattice('lat_name', element_dict, key='line')"
   ]
  },
  {
   "cell_type": "markdown",
   "metadata": {
    "slideshow": {
     "slide_type": "skip"
    }
   },
   "source": [
    "A Lattice() instance contains two representations of the lattice:\n",
    "\n",
    "sequence: List of elements without drifts, based on positions\n",
    "\n",
    "line: List of elements with explicit drifts"
   ]
  },
  {
   "cell_type": "code",
   "execution_count": 4,
   "metadata": {
    "slideshow": {
     "slide_type": "skip"
    }
   },
   "outputs": [
    {
     "name": "stdout",
     "output_type": "stream",
     "text": [
      "\n",
      "  ++++++++++++++++++++++++++++++++++++++++++++\n",
      "  +     MAD-X 5.07.00  (64 bit, Linux)       +\n",
      "  + Support: mad@cern.ch, http://cern.ch/mad +\n",
      "  + Release   date: 2021.05.03               +\n",
      "  + Execution date: 2021.11.10 09:09:14      +\n",
      "  ++++++++++++++++++++++++++++++++++++++++++++\n"
     ]
    }
   ],
   "source": [
    "# Import from sad sequence file\n",
    "lat = Lattice.from_madx_seqfile(\"FCCee_h.seq\", 'l000013', energy=120)"
   ]
  },
  {
   "cell_type": "code",
   "execution_count": 5,
   "metadata": {
    "slideshow": {
     "slide_type": "skip"
    }
   },
   "outputs": [
    {
     "name": "stdout",
     "output_type": "stream",
     "text": [
      "['l000013$start', 'ip.1', 'qc1l1.1', 'qc1r2.1', 'qc1r3.1', 'qc2r1.1', 'qc2r2.1', 'pqc2re.1', 'qt1.1', 'qc3.1', 'qc4.1', 'bc1.1', 'qc5.1', 'bc2.1', 'qc6.1', 'bc3.1', 'qc7.1', 'sy1r.1', 'sy1r.2', 'bc4.1']\n"
     ]
    }
   ],
   "source": [
    "print(lat.sequence[0:20])"
   ]
  },
  {
   "cell_type": "code",
   "execution_count": 6,
   "metadata": {
    "slideshow": {
     "slide_type": "skip"
    }
   },
   "outputs": [
    {
     "name": "stdout",
     "output_type": "stream",
     "text": [
      "['l000013$start', 'ip.1', 'drift_0', 'qc1l1.1', 'drift_1', 'qc1r2.1', 'drift_2', 'qc1r3.1', 'drift_3', 'qc2r1.1', 'drift_4', 'qc2r2.1', 'pqc2re.1', 'drift_5', 'qt1.1', 'drift_6', 'qc3.1', 'drift_7', 'qc4.1', 'drift_8']\n"
     ]
    }
   ],
   "source": [
    "print(lat.line[0:20])"
   ]
  },
  {
   "cell_type": "markdown",
   "metadata": {
    "slideshow": {
     "slide_type": "skip"
    }
   },
   "source": [
    "Some basic functionalities and manipulations can be done"
   ]
  },
  {
   "cell_type": "code",
   "execution_count": 7,
   "metadata": {
    "slideshow": {
     "slide_type": "-"
    }
   },
   "outputs": [
    {
     "name": "stdout",
     "output_type": "stream",
     "text": [
      "['qc1l1.1', 'qc1r2.1', 'qc1r3.1', 'qc2r1.1', 'qc2r2.1', 'qt1.1', 'qc3.1', 'qc4.1', 'qc5.1', 'qc6.1', 'qc7.1', 'sy1r.1', 'sy1r.2', 'qy2.1', 'qy1.1', 'qy2.2', 'sy2r.1', 'sy2r.2', 'qa1.1', 'qa2.1']\n"
     ]
    }
   ],
   "source": [
    "# Get elements of specific type\n",
    "quad_sext = lat.sequence.get_class(['Quadrupole', 'Sextupole'])\n",
    "print(quad_sext[0:20])"
   ]
  },
  {
   "cell_type": "code",
   "execution_count": 8,
   "metadata": {
    "slideshow": {
     "slide_type": "slide"
    }
   },
   "outputs": [
    {
     "name": "stdout",
     "output_type": "stream",
     "text": [
      "Quadrupole(qc1r3.1, k1=0.029375857215640414, k1s=0.0, num_slices=1, id_data=ElementID(slot_id=None, assembly_id=None), parameter_data=ElementParameterData(polarity=0.0, calibration=0.0, kmax=None, kmin=None, tilt=0.0), position_data=ElementPosition(length=1.0, radiation_length=0.0, location=5.060225021095681, reference=0.0, reference_element='', mech_sep=0.0), aperture_data=None, pyat_data=None, magnetic_errors=MultipoleError(kn_err=array([0., 0., 0., 0.]), ks_err=array([0., 0., 0., 0.])))\n"
     ]
    }
   ],
   "source": [
    "# Find element by name\n",
    "print(lat.sequence['qc1r3.1'])"
   ]
  },
  {
   "cell_type": "code",
   "execution_count": 9,
   "metadata": {
    "slideshow": {
     "slide_type": "-"
    }
   },
   "outputs": [
    {
     "name": "stdout",
     "output_type": "stream",
     "text": [
      "['qg7.1', 'bg8.1', 'qg8.1', 'bg9.1', 'qg9.1', 'bga.1', 'fd0a.1', 'sd3.1', 'sd3.2', 'qd3.1', 'b1.1', 'qf4.1', 'b1.2', 'qd3.2', 'b1l.1', 'qf4.2', 'b1s.1', 'sd3.3', 'sd3.4', 'qd3.3', 'b1s.2', 'sf3.1', 'sf3.2', 'qf4.3', 'b1.3']\n"
     ]
    }
   ],
   "source": [
    "# Select element ranges using names or indices\n",
    "print(lat.sequence['qg7.1':'qd3.4'])"
   ]
  },
  {
   "cell_type": "code",
   "execution_count": 10,
   "metadata": {
    "slideshow": {
     "slide_type": "-"
    }
   },
   "outputs": [
    {
     "name": "stdout",
     "output_type": "stream",
     "text": [
      "['b1.163', 'qf4.187', 'b1s.148', 'sd40.3', 'sd40.4', 'qd3.188', 'b1s.149', 'sf40.1', 'sf40.2', 'qf4.188', 'b1.164', 'qd3.189', 'b1l.64', 'qf4.189', 'b1l.65', 'qd3.190', 'b1s.150', 'sf40.3', 'sf40.4', 'qf4.190']\n"
     ]
    }
   ],
   "source": [
    "print(lat.sequence[1180:1200])"
   ]
  },
  {
   "cell_type": "code",
   "execution_count": 11,
   "metadata": {
    "slideshow": {
     "slide_type": "slide"
    }
   },
   "outputs": [
    {
     "name": "stdout",
     "output_type": "stream",
     "text": [
      "['b1.163', 'qf4.187', 'b1s.148', 'sd40.3', 'sd40.4', 'qd3.188', 'b1s.149', 'sf40.1', 'sf40.2', 'qf4.188', 'b1.164', 'qd3.189', 'b1l.64', 'qf4.189', 'b1l.65', 'qd3.190', 'b1s.150', 'sf40.3', 'sf40.4', 'qf4.190']\n",
      "[13228.981116513498, 13242.947331145871, 13255.313545778246, 13266.929760410621, 13268.429760410621, 13270.879760410618, 13283.245975042993, 13294.862189675368, 13296.362189675368, 13298.812189675366, 13312.77840430774, 13326.744618940116, 13339.86083357249, 13354.677048204863, 13367.793262837236, 13382.60947746961, 13394.975692101983, 13406.591906734357, 13408.091906734357, 13410.541906734357]\n"
     ]
    }
   ],
   "source": [
    "# Obtain s positions of Lattice\n",
    "print(lat.sequence[1180:1200].names)\n",
    "print(lat.sequence[1180:1200].positions)"
   ]
  },
  {
   "cell_type": "code",
   "execution_count": 12,
   "metadata": {
    "scrolled": true,
    "slideshow": {
     "slide_type": "slide"
    }
   },
   "outputs": [
    {
     "name": "stdout",
     "output_type": "stream",
     "text": [
      "['ip.1', 'qc1l1.1_0', 'qc1l1.1_1', 'qc1l1.1_2', 'qc1l1.1_3', 'qc1l1.1_4', 'qc1r2.1_0', 'qc1r2.1_1', 'qc1r2.1_2']\n"
     ]
    }
   ],
   "source": [
    "# Teapot slicing using default 1 slice\n",
    "sliced_lat = lat.sliced\n",
    "\n",
    "# Change slice number\n",
    "quad_sext = lat.sequence.get_class(['Quadrupole', 'Sextupole'])\n",
    "for name, el in quad_sext.items():\n",
    "    el.num_slices = 5\n",
    "\n",
    "for name, el in lat.sequence.find_elements(\"mqxa*\").items():\n",
    "    el.num_slices = 10\n",
    "\n",
    "sliced_lat = lat.sliced\n",
    "print(sliced_lat.sequence[1:10])\n"
   ]
  },
  {
   "cell_type": "markdown",
   "metadata": {
    "slideshow": {
     "slide_type": "skip"
    }
   },
   "source": [
    "Quick optics calculations can be done for checks, currently without radiation and tapering. Note no matchin is done currently, so should be updated"
   ]
  },
  {
   "cell_type": "code",
   "execution_count": 13,
   "metadata": {
    "scrolled": true,
    "slideshow": {
     "slide_type": "slide"
    }
   },
   "outputs": [
    {
     "name": "stdout",
     "output_type": "stream",
     "text": [
      "\n",
      "  ++++++++++++++++++++++++++++++++++++++++++++\n",
      "  +     MAD-X 5.07.00  (64 bit, Linux)       +\n",
      "  + Support: mad@cern.ch, http://cern.ch/mad +\n",
      "  + Release   date: 2021.05.03               +\n",
      "  + Execution date: 2021.11.10 09:09:33      +\n",
      "  ++++++++++++++++++++++++++++++++++++++++++++\n",
      "enter Twiss module\n",
      "\n",
      "++++++ table: summ\n",
      "\n",
      "            length             orbit5               alfa            gammatr \n",
      "       97756.02182                 -0    7.398962693e-06        367.6330787 \n",
      "\n",
      "                q1                dq1            betxmax              dxmax \n",
      "            389.13       0.1866038761        2269.984083       0.5357848525 \n",
      "\n",
      "             dxrms             xcomax             xcorms                 q2 \n",
      "      0.1237740782                  0                  0        389.2000001 \n",
      "\n",
      "               dq2            betymax              dymax              dyrms \n",
      "      0.2716027517        8776.702388                  0                  0 \n",
      "\n",
      "            ycomax             ycorms             deltap            synch_1 \n",
      "                 0                  0                  0                  0 \n",
      "\n",
      "           synch_2            synch_3            synch_4            synch_5 \n",
      "                 0                  0                  0                  0 \n",
      "\n",
      "           synch_6            synch_8             nflips \n",
      "                 0                  0                  0 \n"
     ]
    }
   ],
   "source": [
    "df_mad = lat.optics(engine='madx', drop_drifts=True)\n",
    "df_pyat = lat.optics(engine='pyat', drop_drifts=True)"
   ]
  },
  {
   "cell_type": "code",
   "execution_count": 23,
   "metadata": {
    "scrolled": true,
    "slideshow": {
     "slide_type": "slide"
    }
   },
   "outputs": [
    {
     "data": {
      "image/png": "[encoded data removed]",
      "text/plain": [
       "<Figure size 432x288 with 1 Axes>"
      ]
     },
     "metadata": {
      "needs_background": "light"
     },
     "output_type": "display_data"
    }
   ],
   "source": [
    "df_mad = lat.optics(engine='madx', drop_drifts=True)\n",
    "df_pyat = lat.optics(engine='pyat', drop_drifts=True)\n",
    "\n",
    "%matplotlib inline\n",
    "import matplotlib.pyplot as plt\n",
    "from xsequence.helpers.fcc_plots import fcc_axes\n",
    "\n",
    "ax, = plt.plot(df_mad['s'], df_mad['betx'], label='mad-x')\n",
    "ax, = plt.plot(df_pyat['s'], df_pyat['betx'], label='pyat')\n",
    "plt.xlabel('s [m]')\n",
    "plt.ylabel('betx [m]')\n",
    "plt.legend()\n",
    "plt.show()"
   ]
  },
  {
   "cell_type": "markdown",
   "metadata": {
    "slideshow": {
     "slide_type": "skip"
    }
   },
   "source": [
    "A useful tool to debug changes and track differences between lattices. In this case the difference between an FCC-ee Higgs physics lattice from SAD and from MAD-X.\n"
   ]
  },
  {
   "cell_type": "code",
   "execution_count": 16,
   "metadata": {
    "slideshow": {
     "slide_type": "slide"
    }
   },
   "outputs": [
    {
     "data": {
      "text/html": [
       "<pre style=\"white-space:pre;overflow-x:auto;line-height:normal;font-family:Menlo,'DejaVu Sans Mono',consolas,'Courier New',monospace\">\n",
       "</pre>\n"
      ],
      "text/plain": [
       "\n"
      ]
     },
     "metadata": {},
     "output_type": "display_data"
    },
    {
     "data": {
      "text/html": [
       "<pre style=\"white-space:pre;overflow-x:auto;line-height:normal;font-family:Menlo,'DejaVu Sans Mono',consolas,'Courier New',monospace\">\n",
       "</pre>\n"
      ],
      "text/plain": [
       "\n"
      ]
     },
     "metadata": {},
     "output_type": "display_data"
    },
    {
     "data": {
      "text/html": [
       "<pre style=\"white-space:pre;overflow-x:auto;line-height:normal;font-family:Menlo,'DejaVu Sans Mono',consolas,'Courier New',monospace\">-- Comparing global      \n",
       "</pre>\n"
      ],
      "text/plain": [
       "-- Comparing global      \n"
      ]
     },
     "metadata": {},
     "output_type": "display_data"
    },
    {
     "data": {
      "text/html": [
       "<pre style=\"white-space:pre;overflow-x:auto;line-height:normal;font-family:Menlo,'DejaVu Sans Mono',consolas,'Courier New',monospace\">\n",
       "</pre>\n"
      ],
      "text/plain": [
       "\n"
      ]
     },
     "metadata": {},
     "output_type": "display_data"
    },
    {
     "data": {
      "text/html": [
       "<pre style=\"white-space:pre;overflow-x:auto;line-height:normal;font-family:Menlo,'DejaVu Sans Mono',consolas,'Courier New',monospace\">---- Checking lattice names\n",
       "</pre>\n"
      ],
      "text/plain": [
       "---- Checking lattice names\n"
      ]
     },
     "metadata": {},
     "output_type": "display_data"
    },
    {
     "data": {
      "text/html": [
       "<pre style=\"white-space:pre;overflow-x:auto;line-height:normal;font-family:Menlo,'DejaVu Sans Mono',consolas,'Courier New',monospace\"><span style=\"color: #ff0000; text-decoration-color: #ff0000\">Different Lattice names</span>\n",
       "</pre>\n"
      ],
      "text/plain": [
       "\u001b[38;5;196mDifferent Lattice names\u001b[0m\n"
      ]
     },
     "metadata": {},
     "output_type": "display_data"
    },
    {
     "data": {
      "text/html": [
       "<pre style=\"white-space:pre;overflow-x:auto;line-height:normal;font-family:Menlo,'DejaVu Sans Mono',consolas,'Courier New',monospace\">        ring  <span style=\"font-weight: bold\">&lt;</span><span style=\"color: #ff00ff; text-decoration-color: #ff00ff; font-weight: bold\">--</span><span style=\"font-weight: bold\">&gt;</span>  l000013\n",
       "</pre>\n"
      ],
      "text/plain": [
       "        ring  \u001b[1m<\u001b[0m\u001b[1;95m--\u001b[0m\u001b[1m>\u001b[0m  l000013\n"
      ]
     },
     "metadata": {},
     "output_type": "display_data"
    },
    {
     "data": {
      "text/html": [
       "<pre style=\"white-space:pre;overflow-x:auto;line-height:normal;font-family:Menlo,'DejaVu Sans Mono',consolas,'Courier New',monospace\">\n",
       "</pre>\n"
      ],
      "text/plain": [
       "\n"
      ]
     },
     "metadata": {},
     "output_type": "display_data"
    },
    {
     "data": {
      "text/html": [
       "<pre style=\"white-space:pre;overflow-x:auto;line-height:normal;font-family:Menlo,'DejaVu Sans Mono',consolas,'Courier New',monospace\">---- Checking sequence lengths\n",
       "</pre>\n"
      ],
      "text/plain": [
       "---- Checking sequence lengths\n"
      ]
     },
     "metadata": {},
     "output_type": "display_data"
    },
    {
     "data": {
      "text/html": [
       "<pre style=\"white-space:pre;overflow-x:auto;line-height:normal;font-family:Menlo,'DejaVu Sans Mono',consolas,'Courier New',monospace\"><span style=\"color: #008000; text-decoration-color: #008000\">Identical sequence lengths: </span><span style=\"color: #008080; text-decoration-color: #008080; font-weight: bold\">8708</span>\n",
       "</pre>\n"
      ],
      "text/plain": [
       "\u001b[32mIdentical sequence lengths: \u001b[0m\u001b[1;36m8708\u001b[0m\n"
      ]
     },
     "metadata": {},
     "output_type": "display_data"
    },
    {
     "data": {
      "text/html": [
       "<pre style=\"white-space:pre;overflow-x:auto;line-height:normal;font-family:Menlo,'DejaVu Sans Mono',consolas,'Courier New',monospace\">\n",
       "</pre>\n"
      ],
      "text/plain": [
       "\n"
      ]
     },
     "metadata": {},
     "output_type": "display_data"
    },
    {
     "data": {
      "text/html": [
       "<pre style=\"white-space:pre;overflow-x:auto;line-height:normal;font-family:Menlo,'DejaVu Sans Mono',consolas,'Courier New',monospace\">\n",
       "</pre>\n"
      ],
      "text/plain": [
       "\n"
      ]
     },
     "metadata": {},
     "output_type": "display_data"
    },
    {
     "data": {
      "text/html": [
       "<pre style=\"white-space:pre;overflow-x:auto;line-height:normal;font-family:Menlo,'DejaVu Sans Mono',consolas,'Courier New',monospace\">-- Comparing elements     \n",
       "</pre>\n"
      ],
      "text/plain": [
       "-- Comparing elements     \n"
      ]
     },
     "metadata": {},
     "output_type": "display_data"
    },
    {
     "data": {
      "text/html": [
       "<pre style=\"white-space:pre;overflow-x:auto;line-height:normal;font-family:Menlo,'DejaVu Sans Mono',consolas,'Courier New',monospace\">\n",
       "</pre>\n"
      ],
      "text/plain": [
       "\n"
      ]
     },
     "metadata": {},
     "output_type": "display_data"
    },
    {
     "data": {
      "text/html": [
       "<pre style=\"white-space:pre;overflow-x:auto;line-height:normal;font-family:Menlo,'DejaVu Sans Mono',consolas,'Courier New',monospace\">---- Checking element names\n",
       "</pre>\n"
      ],
      "text/plain": [
       "---- Checking element names\n"
      ]
     },
     "metadata": {},
     "output_type": "display_data"
    },
    {
     "data": {
      "text/html": [
       "<pre style=\"white-space:pre;overflow-x:auto;line-height:normal;font-family:Menlo,'DejaVu Sans Mono',consolas,'Courier New',monospace\"><span style=\"color: #ff0000; text-decoration-color: #ff0000\">Element </span><span style=\"color: #008000; text-decoration-color: #008000\">'ring$start'</span><span style=\"color: #ff0000; text-decoration-color: #ff0000\"> is not in Lattice </span><span style=\"color: #008080; text-decoration-color: #008080; font-weight: bold\">2</span>\n",
       "</pre>\n"
      ],
      "text/plain": [
       "\u001b[38;5;196mElement \u001b[0m\u001b[32m'ring$start'\u001b[0m\u001b[38;5;196m is not in Lattice \u001b[0m\u001b[1;36m2\u001b[0m\n"
      ]
     },
     "metadata": {},
     "output_type": "display_data"
    },
    {
     "data": {
      "text/html": [
       "<pre style=\"white-space:pre;overflow-x:auto;line-height:normal;font-family:Menlo,'DejaVu Sans Mono',consolas,'Courier New',monospace\"><span style=\"color: #ff0000; text-decoration-color: #ff0000\">Element </span><span style=\"color: #008000; text-decoration-color: #008000\">'ring$end'</span><span style=\"color: #ff0000; text-decoration-color: #ff0000\"> is not in Lattice </span><span style=\"color: #008080; text-decoration-color: #008080; font-weight: bold\">2</span>\n",
       "</pre>\n"
      ],
      "text/plain": [
       "\u001b[38;5;196mElement \u001b[0m\u001b[32m'ring$end'\u001b[0m\u001b[38;5;196m is not in Lattice \u001b[0m\u001b[1;36m2\u001b[0m\n"
      ]
     },
     "metadata": {},
     "output_type": "display_data"
    },
    {
     "data": {
      "text/html": [
       "<pre style=\"white-space:pre;overflow-x:auto;line-height:normal;font-family:Menlo,'DejaVu Sans Mono',consolas,'Courier New',monospace\"><span style=\"color: #ff0000; text-decoration-color: #ff0000\">Element </span><span style=\"color: #008000; text-decoration-color: #008000\">'l000013$start'</span><span style=\"color: #ff0000; text-decoration-color: #ff0000\"> is not in Lattice </span><span style=\"color: #008080; text-decoration-color: #008080; font-weight: bold\">1</span>\n",
       "</pre>\n"
      ],
      "text/plain": [
       "\u001b[38;5;196mElement \u001b[0m\u001b[32m'l000013$start'\u001b[0m\u001b[38;5;196m is not in Lattice \u001b[0m\u001b[1;36m1\u001b[0m\n"
      ]
     },
     "metadata": {},
     "output_type": "display_data"
    },
    {
     "data": {
      "text/html": [
       "<pre style=\"white-space:pre;overflow-x:auto;line-height:normal;font-family:Menlo,'DejaVu Sans Mono',consolas,'Courier New',monospace\"><span style=\"color: #ff0000; text-decoration-color: #ff0000\">Element </span><span style=\"color: #008000; text-decoration-color: #008000\">'l000013$end'</span><span style=\"color: #ff0000; text-decoration-color: #ff0000\"> is not in Lattice </span><span style=\"color: #008080; text-decoration-color: #008080; font-weight: bold\">1</span>\n",
       "</pre>\n"
      ],
      "text/plain": [
       "\u001b[38;5;196mElement \u001b[0m\u001b[32m'l000013$end'\u001b[0m\u001b[38;5;196m is not in Lattice \u001b[0m\u001b[1;36m1\u001b[0m\n"
      ]
     },
     "metadata": {},
     "output_type": "display_data"
    },
    {
     "data": {
      "text/html": [
       "<pre style=\"white-space:pre;overflow-x:auto;line-height:normal;font-family:Menlo,'DejaVu Sans Mono',consolas,'Courier New',monospace\">\n",
       "</pre>\n"
      ],
      "text/plain": [
       "\n"
      ]
     },
     "metadata": {},
     "output_type": "display_data"
    },
    {
     "data": {
      "text/html": [
       "<pre style=\"white-space:pre;overflow-x:auto;line-height:normal;font-family:Menlo,'DejaVu Sans Mono',consolas,'Courier New',monospace\">\n",
       "</pre>\n"
      ],
      "text/plain": [
       "\n"
      ]
     },
     "metadata": {},
     "output_type": "display_data"
    },
    {
     "data": {
      "text/html": [
       "<pre style=\"white-space:pre;overflow-x:auto;line-height:normal;font-family:Menlo,'DejaVu Sans Mono',consolas,'Courier New',monospace\">---- Checking element attributes\n",
       "</pre>\n"
      ],
      "text/plain": [
       "---- Checking element attributes\n"
      ]
     },
     "metadata": {},
     "output_type": "display_data"
    },
    {
     "data": {
      "text/html": [
       "<pre style=\"white-space:pre;overflow-x:auto;line-height:normal;font-family:Menlo,'DejaVu Sans Mono',consolas,'Courier New',monospace\"><span style=\"color: #ff0000; text-decoration-color: #ff0000\">Element </span><span style=\"color: #008000; text-decoration-color: #008000\">'bsep.1'</span><span style=\"color: #ff0000; text-decoration-color: #ff0000\"> not equal between lattices</span>\n",
       "</pre>\n"
      ],
      "text/plain": [
       "\u001b[38;5;196mElement \u001b[0m\u001b[32m'bsep.1'\u001b[0m\u001b[38;5;196m not equal between lattices\u001b[0m\n"
      ]
     },
     "metadata": {},
     "output_type": "display_data"
    },
    {
     "data": {
      "text/html": [
       "<pre style=\"white-space:pre;overflow-x:auto;line-height:normal;font-family:Menlo,'DejaVu Sans Mono',consolas,'Courier New',monospace\"><span style=\"color: #d78700; text-decoration-color: #d78700\">    Attribute </span><span style=\"color: #008000; text-decoration-color: #008000\">'_rbend_e1'</span><span style=\"color: #d78700; text-decoration-color: #d78700\"> is not equal</span>\n",
       "</pre>\n"
      ],
      "text/plain": [
       "\u001b[38;5;172m    Attribute \u001b[0m\u001b[32m'_rbend_e1'\u001b[0m\u001b[38;5;172m is not equal\u001b[0m\n"
      ]
     },
     "metadata": {},
     "output_type": "display_data"
    },
    {
     "data": {
      "text/html": [
       "<pre style=\"white-space:pre;overflow-x:auto;line-height:normal;font-family:Menlo,'DejaVu Sans Mono',consolas,'Courier New',monospace\">        <span style=\"color: #008080; text-decoration-color: #008080; font-weight: bold\">-0.0002054794520547945</span>  <span style=\"font-weight: bold\">&lt;</span><span style=\"color: #ff00ff; text-decoration-color: #ff00ff; font-weight: bold\">--</span><span style=\"font-weight: bold\">&gt;</span>  <span style=\"color: #008080; text-decoration-color: #008080; font-weight: bold\">0.0</span>\n",
       "</pre>\n"
      ],
      "text/plain": [
       "        \u001b[1;36m-0.0002054794520547945\u001b[0m  \u001b[1m<\u001b[0m\u001b[1;95m--\u001b[0m\u001b[1m>\u001b[0m  \u001b[1;36m0.0\u001b[0m\n"
      ]
     },
     "metadata": {},
     "output_type": "display_data"
    },
    {
     "data": {
      "text/html": [
       "<pre style=\"white-space:pre;overflow-x:auto;line-height:normal;font-family:Menlo,'DejaVu Sans Mono',consolas,'Courier New',monospace\"><span style=\"color: #d78700; text-decoration-color: #d78700\">    Attribute </span><span style=\"color: #008000; text-decoration-color: #008000\">'e1'</span><span style=\"color: #d78700; text-decoration-color: #d78700\"> is not equal</span>\n",
       "</pre>\n"
      ],
      "text/plain": [
       "\u001b[38;5;172m    Attribute \u001b[0m\u001b[32m'e1'\u001b[0m\u001b[38;5;172m is not equal\u001b[0m\n"
      ]
     },
     "metadata": {},
     "output_type": "display_data"
    },
    {
     "data": {
      "text/html": [
       "<pre style=\"white-space:pre;overflow-x:auto;line-height:normal;font-family:Menlo,'DejaVu Sans Mono',consolas,'Courier New',monospace\">        <span style=\"color: #008080; text-decoration-color: #008080; font-weight: bold\">0.0</span>  <span style=\"font-weight: bold\">&lt;</span><span style=\"color: #ff00ff; text-decoration-color: #ff00ff; font-weight: bold\">--</span><span style=\"font-weight: bold\">&gt;</span>  <span style=\"color: #008080; text-decoration-color: #008080; font-weight: bold\">0.0002054794520547945</span>\n",
       "</pre>\n"
      ],
      "text/plain": [
       "        \u001b[1;36m0.0\u001b[0m  \u001b[1m<\u001b[0m\u001b[1;95m--\u001b[0m\u001b[1m>\u001b[0m  \u001b[1;36m0.0002054794520547945\u001b[0m\n"
      ]
     },
     "metadata": {},
     "output_type": "display_data"
    },
    {
     "data": {
      "text/html": [
       "<pre style=\"white-space:pre;overflow-x:auto;line-height:normal;font-family:Menlo,'DejaVu Sans Mono',consolas,'Courier New',monospace\"><span style=\"color: #ff0000; text-decoration-color: #ff0000\">Element </span><span style=\"color: #008000; text-decoration-color: #008000\">'bsep.2'</span><span style=\"color: #ff0000; text-decoration-color: #ff0000\"> not equal between lattices</span>\n",
       "</pre>\n"
      ],
      "text/plain": [
       "\u001b[38;5;196mElement \u001b[0m\u001b[32m'bsep.2'\u001b[0m\u001b[38;5;196m not equal between lattices\u001b[0m\n"
      ]
     },
     "metadata": {},
     "output_type": "display_data"
    },
    {
     "data": {
      "text/html": [
       "<pre style=\"white-space:pre;overflow-x:auto;line-height:normal;font-family:Menlo,'DejaVu Sans Mono',consolas,'Courier New',monospace\"><span style=\"color: #d78700; text-decoration-color: #d78700\">    Attribute </span><span style=\"color: #008000; text-decoration-color: #008000\">'_rbend_e1'</span><span style=\"color: #d78700; text-decoration-color: #d78700\"> is not equal</span>\n",
       "</pre>\n"
      ],
      "text/plain": [
       "\u001b[38;5;172m    Attribute \u001b[0m\u001b[32m'_rbend_e1'\u001b[0m\u001b[38;5;172m is not equal\u001b[0m\n"
      ]
     },
     "metadata": {},
     "output_type": "display_data"
    },
    {
     "data": {
      "text/html": [
       "<pre style=\"white-space:pre;overflow-x:auto;line-height:normal;font-family:Menlo,'DejaVu Sans Mono',consolas,'Courier New',monospace\">        <span style=\"color: #008080; text-decoration-color: #008080; font-weight: bold\">-0.0002054794520547945</span>  <span style=\"font-weight: bold\">&lt;</span><span style=\"color: #ff00ff; text-decoration-color: #ff00ff; font-weight: bold\">--</span><span style=\"font-weight: bold\">&gt;</span>  <span style=\"color: #008080; text-decoration-color: #008080; font-weight: bold\">0.0</span>\n",
       "</pre>\n"
      ],
      "text/plain": [
       "        \u001b[1;36m-0.0002054794520547945\u001b[0m  \u001b[1m<\u001b[0m\u001b[1;95m--\u001b[0m\u001b[1m>\u001b[0m  \u001b[1;36m0.0\u001b[0m\n"
      ]
     },
     "metadata": {},
     "output_type": "display_data"
    },
    {
     "data": {
      "text/html": [
       "<pre style=\"white-space:pre;overflow-x:auto;line-height:normal;font-family:Menlo,'DejaVu Sans Mono',consolas,'Courier New',monospace\"><span style=\"color: #d78700; text-decoration-color: #d78700\">    Attribute </span><span style=\"color: #008000; text-decoration-color: #008000\">'e1'</span><span style=\"color: #d78700; text-decoration-color: #d78700\"> is not equal</span>\n",
       "</pre>\n"
      ],
      "text/plain": [
       "\u001b[38;5;172m    Attribute \u001b[0m\u001b[32m'e1'\u001b[0m\u001b[38;5;172m is not equal\u001b[0m\n"
      ]
     },
     "metadata": {},
     "output_type": "display_data"
    },
    {
     "data": {
      "text/html": [
       "<pre style=\"white-space:pre;overflow-x:auto;line-height:normal;font-family:Menlo,'DejaVu Sans Mono',consolas,'Courier New',monospace\">        <span style=\"color: #008080; text-decoration-color: #008080; font-weight: bold\">0.0</span>  <span style=\"font-weight: bold\">&lt;</span><span style=\"color: #ff00ff; text-decoration-color: #ff00ff; font-weight: bold\">--</span><span style=\"font-weight: bold\">&gt;</span>  <span style=\"color: #008080; text-decoration-color: #008080; font-weight: bold\">0.0002054794520547945</span>\n",
       "</pre>\n"
      ],
      "text/plain": [
       "        \u001b[1;36m0.0\u001b[0m  \u001b[1m<\u001b[0m\u001b[1;95m--\u001b[0m\u001b[1m>\u001b[0m  \u001b[1;36m0.0002054794520547945\u001b[0m\n"
      ]
     },
     "metadata": {},
     "output_type": "display_data"
    },
    {
     "data": {
      "text/plain": [
       "0"
      ]
     },
     "execution_count": 16,
     "metadata": {},
     "output_type": "execute_result"
    }
   ],
   "source": [
    "from xsequence.helpers.compare_lattices import compare_lattices\n",
    "compare_lattices(lat_sad, lat_mad)"
   ]
  },
  {
   "cell_type": "markdown",
   "metadata": {
    "slideshow": {
     "slide_type": "skip"
    }
   },
   "source": [
    "The lattice can be exported to cpymad, pyat and xline. "
   ]
  },
  {
   "cell_type": "code",
   "execution_count": 17,
   "metadata": {
    "slideshow": {
     "slide_type": "slide"
    }
   },
   "outputs": [
    {
     "name": "stdout",
     "output_type": "stream",
     "text": [
      "\n",
      "  ++++++++++++++++++++++++++++++++++++++++++++\n",
      "  +     MAD-X 5.07.00  (64 bit, Linux)       +\n",
      "  + Support: mad@cern.ch, http://cern.ch/mad +\n",
      "  + Release   date: 2021.05.03               +\n",
      "  + Execution date: 2021.11.10 09:10:08      +\n",
      "  ++++++++++++++++++++++++++++++++++++++++++++\n"
     ]
    }
   ],
   "source": [
    "madx = lat.to_cpymad()\n",
    "pyat = lat.to_pyat()\n",
    "line = lat.to_xline()"
   ]
  },
  {
   "cell_type": "markdown",
   "metadata": {
    "slideshow": {
     "slide_type": "skip"
    }
   },
   "source": [
    "The 'xdeps' dependencies package from R. de Maria has been implemented into Lattices to import dependencies from cpymad. \n",
    "\n",
    "Dependency manager is contained in:\n",
    "   - lat.manager\n",
    "\n",
    "The references to the different objects are stored as:\n",
    "   - lat.vref  --> Reference to variables\n",
    "   - lat.sref  --> Reference to sequence\n",
    "    "
   ]
  },
  {
   "cell_type": "code",
   "execution_count": 18,
   "metadata": {
    "slideshow": {
     "slide_type": "slide"
    }
   },
   "outputs": [
    {
     "name": "stdout",
     "output_type": "stream",
     "text": [
      "mqxa.1r1 k1 = 0.00854562504357\n"
     ]
    }
   ],
   "source": [
    "from cpymad.madx import Madx\n",
    "cpymad_ins = Madx(stdout=False)\n",
    "cpymad_ins.call(\"lhc.seq\")\n",
    "cpymad_ins.call(\"optics.madx\")\n",
    "\n",
    "lat = Lattice.from_cpymad(cpymad_ins, seq_name=\"lhcb1\", \n",
    "  dependencies=True)\n",
    "\n",
    "print(f'mqxa.1r1 k1 = {lat.sequence[\"mqxa.1r1\"].k1}')"
   ]
  },
  {
   "cell_type": "code",
   "execution_count": 19,
   "metadata": {
    "slideshow": {
     "slide_type": "-"
    }
   },
   "outputs": [
    {
     "name": "stdout",
     "output_type": "stream",
     "text": [
      "mqxa.1r1 k1 = 0.01\n"
     ]
    }
   ],
   "source": [
    "lat.vref[\"kqx.r1\"] = 0.01\n",
    "print(f'mqxa.1r1 k1 = {lat.sequence[\"mqxa.1r1\"].k1}')"
   ]
  },
  {
   "cell_type": "markdown",
   "metadata": {
    "slideshow": {
     "slide_type": "skip"
    }
   },
   "source": [
    "New knobs can be created to tune specific magnets. Here, a new knob called 'mqxa_knob' is created that adds a value to the strengths of all 'mqxa' elements.\n",
    "\n",
    " - element.k1 = current_expression + mqxa_knob\n",
    "\n",
    "Note the that the syntax is still under development and will be polished to offer much more intuitive functionalities."
   ]
  },
  {
   "cell_type": "code",
   "execution_count": 20,
   "metadata": {
    "slideshow": {
     "slide_type": "slide"
    }
   },
   "outputs": [
    {
     "name": "stdout",
     "output_type": "stream",
     "text": [
      "mqxa.1r1.k1 = 0.01\n",
      "mqxa.3r1.k1 = 0.01\n",
      "mqxa.3l2.k1 = 0.009509815813\n",
      "mqxa.1l2.k1 = 0.009509815813\n",
      "mqxa.1r2.k1 = -0.009509815813\n",
      "mqxa.3r2.k1 = -0.009509815813\n",
      "mqxa.3l5.k1 = -0.00854562504357\n",
      "mqxa.1l5.k1 = -0.00854562504357\n",
      "mqxa.1r5.k1 = 0.00854562504357\n",
      "mqxa.3r5.k1 = 0.00854562504357\n",
      "mqxa.3l8.k1 = 0.009509815813\n",
      "mqxa.1l8.k1 = 0.009509815813\n",
      "mqxa.1r8.k1 = -0.009509815813\n",
      "mqxa.3r8.k1 = -0.009509815813\n",
      "mqxa.3l1.k1 = -0.00854562504357\n",
      "mqxa.1l1.k1 = -0.00854562504357\n"
     ]
    }
   ],
   "source": [
    "for el in lat.sequence.find_elements(\"mqxa*\"):\n",
    "    lat.sref[el].k1 = lat.manager.tasks[lat.sref[el].k1].expr + lat.vref[\"mqxa_knob\"]\n",
    "\n",
    "for name, el in lat.sequence.find_elements(\"mqxa*\").items():\n",
    "    print(f'{name}.k1 = {el.k1}')"
   ]
  },
  {
   "cell_type": "markdown",
   "metadata": {
    "slideshow": {
     "slide_type": "skip"
    }
   },
   "source": [
    "The new expression for element 'mqxa.1l1' is now:"
   ]
  },
  {
   "cell_type": "code",
   "execution_count": 21,
   "metadata": {
    "slideshow": {
     "slide_type": "skip"
    }
   },
   "outputs": [
    {
     "name": "stdout",
     "output_type": "stream",
     "text": [
      "((v['kqx.l1']+v['ktqx1.l1'])+v['mqxa_knob'])\n"
     ]
    }
   ],
   "source": [
    "print(lat.manager.tasks[lat.sref[\"mqxa.1l1\"].k1].expr)"
   ]
  },
  {
   "cell_type": "markdown",
   "metadata": {
    "slideshow": {
     "slide_type": "skip"
    }
   },
   "source": [
    "A change of the knob value will result in the desired change of k1 strengths."
   ]
  },
  {
   "cell_type": "code",
   "execution_count": 22,
   "metadata": {
    "slideshow": {
     "slide_type": "slide"
    }
   },
   "outputs": [
    {
     "name": "stdout",
     "output_type": "stream",
     "text": [
      "mqxa.1r1.k1 = 0.025\n",
      "mqxa.3r1.k1 = 0.025\n",
      "mqxa.3l2.k1 = 0.024509815812999998\n",
      "mqxa.1l2.k1 = 0.024509815812999998\n",
      "mqxa.1r2.k1 = 0.005490184186999999\n",
      "mqxa.3r2.k1 = 0.005490184186999999\n",
      "mqxa.3l5.k1 = 0.00645437495643\n",
      "mqxa.1l5.k1 = 0.00645437495643\n",
      "mqxa.1r5.k1 = 0.02354562504357\n",
      "mqxa.3r5.k1 = 0.02354562504357\n",
      "mqxa.3l8.k1 = 0.024509815812999998\n",
      "mqxa.1l8.k1 = 0.024509815812999998\n",
      "mqxa.1r8.k1 = 0.005490184186999999\n",
      "mqxa.3r8.k1 = 0.005490184186999999\n",
      "mqxa.3l1.k1 = 0.00645437495643\n",
      "mqxa.1l1.k1 = 0.00645437495643\n"
     ]
    }
   ],
   "source": [
    "lat.vref[\"mqxa_knob\"] = 0.015\n",
    "\n",
    "for name, el in lat.sequence.find_elements(\"mqxa*\").items():\n",
    "    print(f'{name}.k1 = {el.k1}')"
   ]
  },
  {
   "cell_type": "code",
   "execution_count": null,
   "metadata": {},
   "outputs": [],
   "source": []
  }
 ],
 "metadata": {
  "celltoolbar": "Slideshow",
  "kernelspec": {
   "display_name": "Python 3.8.5 64-bit ('base': conda)",
   "language": "python",
   "name": "python385jvsc74a57bd0a91ba3d47e2e60a237bbc7f073e35e245fce9670f90c53ef032d764feb4e9d23"
  },
  "language_info": {
   "codemirror_mode": {
    "name": "ipython",
    "version": 3
   },
   "file_extension": ".py",
   "mimetype": "text/x-python",
   "name": "python",
   "nbconvert_exporter": "python",
   "pygments_lexer": "ipython3",
   "version": "3.8.5"
  }
 },
 "nbformat": 4,
 "nbformat_minor": 4
}
