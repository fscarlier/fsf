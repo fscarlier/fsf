{
 "cells": [
  {
   "cell_type": "code",
   "execution_count": 1,
   "metadata": {
    "slideshow": {
     "slide_type": "slide"
    }
   },
   "outputs": [],
   "source": [
    "from xsequence.lattice import Lattice\n",
    "from xsequence.conversion_utils import conv_utils"
   ]
  },
  {
   "cell_type": "markdown",
   "metadata": {
    "slideshow": {
     "slide_type": "skip"
    }
   },
   "source": [
    "Lattices can be imported from different sources. Currently only limited to FCC-ee lattice without complicated Solenoid IR descriptions.\n",
    "\n",
    "Different examples:\n",
    " - From cpymad instance\n",
    " - From MAD-X sequence file through cpymad\n",
    " - From SAD using built in SAD2MAD converter (no tilted Solenoid, but Twiss table based conversion can be implemented)\n",
    " - From pyAT\n"
   ]
  },
  {
   "cell_type": "code",
   "execution_count": null,
   "metadata": {
    "slideshow": {
     "slide_type": "-"
    }
   },
   "outputs": [
    {
     "name": "stdout",
     "output_type": "stream",
     "text": [
      "\n",
      "  ++++++++++++++++++++++++++++++++++++++++++++\n",
      "  +     MAD-X 5.07.00  (64 bit, Linux)       +\n",
      "  + Support: mad@cern.ch, http://cern.ch/mad +\n",
      "  + Release   date: 2021.05.03               +\n",
      "  + Execution date: 2021.11.11 09:36:37      +\n",
      "  ++++++++++++++++++++++++++++++++++++++++++++\n"
     ]
    }
   ],
   "source": [
    "# Import from cpymad instance\n",
    "madx_lattice = conv_utils.create_cpymad_from_file(\"FCCee_h.seq\", energy=120)\n",
    "lat = Lattice.from_cpymad(madx_lattice, 'l000013')\n",
    "\n",
    "# Import from madx sequence file (through cpymad)\n",
    "lat_mad = Lattice.from_madx_seqfile(\"FCCee_h.seq\", 'l000013', energy=120)\n",
    "\n",
    "# Import from sad sequence file\n",
    "lat_sad = Lattice.from_sad(\"FCCee_h.sad\", 'ring', energy=120)\n",
    "\n",
    "# Import from pyat instance\n",
    "pyat_lattice = conv_utils.create_pyat_from_file(\"FCCee_h.mat\")\n",
    "lat = Lattice.from_pyat(pyat_lattice)"
   ]
  },
  {
   "cell_type": "markdown",
   "metadata": {
    "slideshow": {
     "slide_type": "skip"
    }
   },
   "source": [
    "A lattice can also be created from scratch in Python"
   ]
  },
  {
   "cell_type": "code",
   "execution_count": null,
   "metadata": {
    "slideshow": {
     "slide_type": "slide"
    }
   },
   "outputs": [],
   "source": [
    "import xsequence.elements as xe\n",
    "\n",
    "# Create elements\n",
    "q1 = xe.Quadrupole('q1', length=1, k1=0.2, location=1)\n",
    "q2 = xe.Quadrupole('q2', length=1, k1=-0.2, location=3)\n",
    "q3 = xe.Quadrupole('q3', length=1, k1=0.2, location=5)\n",
    "\n",
    "element_dict = {'q1':q1, 'q2':q2, 'q3':q3}\n",
    "lat = Lattice('lat_name', element_dict, key='sequence')\n",
    "\n",
    "# Create elements\n",
    "d0 = xe.Drift('d0', length=1)\n",
    "q1 = xe.Quadrupole('q1', length=1, k1=0.2)\n",
    "d1 = xe.Drift('d1', length=1)\n",
    "q2 = xe.Quadrupole('q2', length=1, k1=-0.2)\n",
    "d2 = xe.Drift('d1', length=1)\n",
    "q3 = xe.Quadrupole('q3', length=1, k1=0.2)\n",
    "\n",
    "element_dict = {'d0':d0, 'q1':q1, 'd1':d1, \n",
    "                'q2':q2, 'd2':d2, 'q3':q3}\n",
    "lat = Lattice('lat_name', element_dict, key='line')"
   ]
  },
  {
   "cell_type": "markdown",
   "metadata": {
    "slideshow": {
     "slide_type": "skip"
    }
   },
   "source": [
    "A Lattice() instance contains two representations of the lattice:\n",
    "\n",
    "sequence: List of elements without drifts, based on positions\n",
    "\n",
    "line: List of elements with explicit drifts"
   ]
  },
  {
   "cell_type": "code",
   "execution_count": null,
   "metadata": {
    "slideshow": {
     "slide_type": "skip"
    }
   },
   "outputs": [],
   "source": [
    "# Import from sad sequence file\n",
    "lat = Lattice.from_madx_seqfile(\"FCCee_h.seq\", 'l000013', energy=120)"
   ]
  },
  {
   "cell_type": "code",
   "execution_count": null,
   "metadata": {
    "slideshow": {
     "slide_type": "skip"
    }
   },
   "outputs": [],
   "source": [
    "print(lat.sequence[0:20])"
   ]
  },
  {
   "cell_type": "code",
   "execution_count": null,
   "metadata": {
    "slideshow": {
     "slide_type": "skip"
    }
   },
   "outputs": [],
   "source": [
    "print(lat.line[0:20])"
   ]
  },
  {
   "cell_type": "markdown",
   "metadata": {
    "slideshow": {
     "slide_type": "skip"
    }
   },
   "source": [
    "Some basic functionalities and manipulations can be done"
   ]
  },
  {
   "cell_type": "code",
   "execution_count": null,
   "metadata": {
    "slideshow": {
     "slide_type": "-"
    }
   },
   "outputs": [],
   "source": [
    "# Get elements of specific type\n",
    "quad_sext = lat.sequence.get_class(['Quadrupole', 'Sextupole'])\n",
    "print(quad_sext[0:20])"
   ]
  },
  {
   "cell_type": "code",
   "execution_count": null,
   "metadata": {
    "slideshow": {
     "slide_type": "slide"
    }
   },
   "outputs": [],
   "source": [
    "# Find element by name\n",
    "print(lat.sequence['qc1r3.1'])"
   ]
  },
  {
   "cell_type": "code",
   "execution_count": null,
   "metadata": {
    "slideshow": {
     "slide_type": "-"
    }
   },
   "outputs": [],
   "source": [
    "# Select element ranges using names or indices\n",
    "print(lat.sequence['qg7.1':'qd3.4'])"
   ]
  },
  {
   "cell_type": "code",
   "execution_count": null,
   "metadata": {
    "slideshow": {
     "slide_type": "-"
    }
   },
   "outputs": [],
   "source": [
    "print(lat.sequence[1180:1200])"
   ]
  },
  {
   "cell_type": "code",
   "execution_count": null,
   "metadata": {
    "slideshow": {
     "slide_type": "slide"
    }
   },
   "outputs": [],
   "source": [
    "# Obtain s positions of Lattice\n",
    "print(lat.sequence[1180:1200].names)\n",
    "print(lat.sequence[1180:1200].positions)"
   ]
  },
  {
   "cell_type": "code",
   "execution_count": null,
   "metadata": {
    "scrolled": true,
    "slideshow": {
     "slide_type": "slide"
    }
   },
   "outputs": [],
   "source": [
    "# Teapot slicing using default 1 slice\n",
    "sliced_lat = lat.sliced\n",
    "\n",
    "# Change slice number\n",
    "quad_sext = lat.sequence.get_class(['Quadrupole', 'Sextupole'])\n",
    "for name, el in quad_sext.items():\n",
    "    el.num_slices = 5\n",
    "\n",
    "for name, el in lat.sequence.find_elements(\"mqxa*\").items():\n",
    "    el.num_slices = 10\n",
    "\n",
    "sliced_lat = lat.sliced\n",
    "print(sliced_lat.sequence[1:10])\n"
   ]
  },
  {
   "cell_type": "markdown",
   "metadata": {
    "slideshow": {
     "slide_type": "skip"
    }
   },
   "source": [
    "Quick optics calculations can be done for checks, currently without radiation and tapering. Note no matchin is done currently, so should be updated"
   ]
  },
  {
   "cell_type": "code",
   "execution_count": null,
   "metadata": {
    "scrolled": true,
    "slideshow": {
     "slide_type": "slide"
    }
   },
   "outputs": [],
   "source": [
    "df_mad = lat.optics(engine='madx', drop_drifts=True)\n",
    "df_pyat = lat.optics(engine='pyat', drop_drifts=True)"
   ]
  },
  {
   "cell_type": "code",
   "execution_count": null,
   "metadata": {
    "scrolled": true,
    "slideshow": {
     "slide_type": "slide"
    }
   },
   "outputs": [],
   "source": [
    "df_mad = lat.optics(engine='madx', drop_drifts=True)\n",
    "df_pyat = lat.optics(engine='pyat', drop_drifts=True)\n",
    "\n",
    "%matplotlib inline\n",
    "import matplotlib.pyplot as plt\n",
    "from xsequence.helpers.fcc_plots import fcc_axes\n",
    "\n",
    "ax, = plt.plot(df_mad['s'], df_mad['betx'], label='mad-x')\n",
    "ax, = plt.plot(df_pyat['s'], df_pyat['betx'], label='pyat')\n",
    "plt.xlabel('s [m]')\n",
    "plt.ylabel('betx [m]')\n",
    "plt.legend()\n",
    "plt.show()"
   ]
  },
  {
   "cell_type": "markdown",
   "metadata": {
    "slideshow": {
     "slide_type": "skip"
    }
   },
   "source": [
    "A useful tool to debug changes and track differences between lattices. In this case the difference between an FCC-ee Higgs physics lattice from SAD and from MAD-X.\n"
   ]
  },
  {
   "cell_type": "code",
   "execution_count": null,
   "metadata": {
    "slideshow": {
     "slide_type": "slide"
    }
   },
   "outputs": [],
   "source": [
    "from xsequence.helpers.compare_lattices import compare_lattices\n",
    "compare_lattices(lat_sad, lat_mad)"
   ]
  },
  {
   "cell_type": "markdown",
   "metadata": {
    "slideshow": {
     "slide_type": "skip"
    }
   },
   "source": [
    "The lattice can be exported to cpymad, pyat and xline. "
   ]
  },
  {
   "cell_type": "code",
   "execution_count": null,
   "metadata": {
    "slideshow": {
     "slide_type": "slide"
    }
   },
   "outputs": [],
   "source": [
    "madx = lat.to_cpymad()\n",
    "pyat = lat.to_pyat()\n",
    "line = lat.to_xline()"
   ]
  },
  {
   "cell_type": "markdown",
   "metadata": {
    "slideshow": {
     "slide_type": "skip"
    }
   },
   "source": [
    "The 'xdeps' dependencies package from R. de Maria has been implemented into Lattices to import dependencies from cpymad. \n",
    "\n",
    "Dependency manager is contained in:\n",
    "   - lat.manager\n",
    "\n",
    "The references to the different objects are stored as:\n",
    "   - lat.vref  --> Reference to variables\n",
    "   - lat.sref  --> Reference to sequence\n",
    "    "
   ]
  },
  {
   "cell_type": "code",
   "execution_count": null,
   "metadata": {
    "slideshow": {
     "slide_type": "slide"
    }
   },
   "outputs": [],
   "source": [
    "from cpymad.madx import Madx\n",
    "cpymad_ins = Madx(stdout=False)\n",
    "cpymad_ins.call(\"lhc.seq\")\n",
    "cpymad_ins.call(\"optics.madx\")\n",
    "\n",
    "lat = Lattice.from_cpymad(cpymad_ins, seq_name=\"lhcb1\", \n",
    "  dependencies=True)\n",
    "\n",
    "print(f'mqxa.1r1 k1 = {lat.sequence[\"mqxa.1r1\"].k1}')"
   ]
  },
  {
   "cell_type": "code",
   "execution_count": null,
   "metadata": {
    "slideshow": {
     "slide_type": "-"
    }
   },
   "outputs": [],
   "source": [
    "lat.vref[\"kqx.r1\"] = 0.01\n",
    "print(f'mqxa.1r1 k1 = {lat.sequence[\"mqxa.1r1\"].k1}')"
   ]
  },
  {
   "cell_type": "markdown",
   "metadata": {
    "slideshow": {
     "slide_type": "skip"
    }
   },
   "source": [
    "New knobs can be created to tune specific magnets. Here, a new knob called 'mqxa_knob' is created that adds a value to the strengths of all 'mqxa' elements.\n",
    "\n",
    " - element.k1 = current_expression + mqxa_knob\n",
    "\n",
    "Note the that the syntax is still under development and will be polished to offer much more intuitive functionalities."
   ]
  },
  {
   "cell_type": "code",
   "execution_count": null,
   "metadata": {
    "slideshow": {
     "slide_type": "slide"
    }
   },
   "outputs": [],
   "source": [
    "for el in lat.sequence.find_elements(\"mqxa*\"):\n",
    "    lat.sref[el].k1 = lat.manager.tasks[lat.sref[el].k1].expr + lat.vref[\"mqxa_knob\"]\n",
    "\n",
    "for name, el in lat.sequence.find_elements(\"mqxa*\").items():\n",
    "    print(f'{name}.k1 = {el.k1}')"
   ]
  },
  {
   "cell_type": "markdown",
   "metadata": {
    "slideshow": {
     "slide_type": "skip"
    }
   },
   "source": [
    "The new expression for element 'mqxa.1l1' is now:"
   ]
  },
  {
   "cell_type": "code",
   "execution_count": null,
   "metadata": {
    "slideshow": {
     "slide_type": "skip"
    }
   },
   "outputs": [],
   "source": [
    "print(lat.manager.tasks[lat.sref[\"mqxa.1l1\"].k1].expr)"
   ]
  },
  {
   "cell_type": "markdown",
   "metadata": {
    "slideshow": {
     "slide_type": "skip"
    }
   },
   "source": [
    "A change of the knob value will result in the desired change of k1 strengths."
   ]
  },
  {
   "cell_type": "code",
   "execution_count": null,
   "metadata": {
    "slideshow": {
     "slide_type": "slide"
    }
   },
   "outputs": [],
   "source": [
    "lat.vref[\"mqxa_knob\"] = 0.015\n",
    "\n",
    "for name, el in lat.sequence.find_elements(\"mqxa*\").items():\n",
    "    print(f'{name}.k1 = {el.k1}')"
   ]
  },
  {
   "cell_type": "code",
   "execution_count": null,
   "metadata": {},
   "outputs": [],
   "source": []
  }
 ],
 "metadata": {
  "kernelspec": {
   "display_name": "Python 3.8.5 64-bit ('base': conda)",
   "language": "python",
   "name": "python385jvsc74a57bd0a91ba3d47e2e60a237bbc7f073e35e245fce9670f90c53ef032d764feb4e9d23"
  },
  "language_info": {
   "codemirror_mode": {
    "name": "ipython",
    "version": 3
   },
   "file_extension": ".py",
   "mimetype": "text/x-python",
   "name": "python",
   "nbconvert_exporter": "python",
   "pygments_lexer": "ipython3",
   "version": "3.8.12"
  }
 },
 "nbformat": 4,
 "nbformat_minor": 4
}
